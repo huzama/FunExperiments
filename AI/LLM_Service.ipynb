{
 "cells": [
  {
   "cell_type": "markdown",
   "id": "8e736366",
   "metadata": {},
   "source": [
    "# Generate Call"
   ]
  },
  {
   "cell_type": "code",
   "execution_count": null,
   "id": "75bbdca8",
   "metadata": {},
   "outputs": [],
   "source": [
    "from xfact_lslms.client.lslms_client import LSMSClient"
   ]
  },
  {
   "cell_type": "code",
   "execution_count": null,
   "id": "b107142e",
   "metadata": {},
   "outputs": [],
   "source": [
    "client = LSMSClient(username='', password='', model_name='llama-30b')\n",
    "\n",
    "inputs = 'The President of South Korea is'\n",
    "\n",
    "client.generate(inputs, generate_kwargs={'max_length': 20})"
   ]
  },
  {
   "cell_type": "code",
   "execution_count": null,
   "id": "fa01a9a6",
   "metadata": {},
   "outputs": [],
   "source": [
    "client_7b = LSMSClient(username='', password='', model_name='llama-7b')\n",
    "client_30b = LSMSClient(username='', password='', model_name='llama-30b')\n",
    "client = LSMSClient(username='', password='', model_name='flan-t5-xxl')"
   ]
  },
  {
   "cell_type": "code",
   "execution_count": null,
   "id": "62d371eb",
   "metadata": {},
   "outputs": [],
   "source": [
    "inputs = 'Who is president of USA?'\n",
    "\n",
    "responce_7b = client_7b.call(inputs, \n",
    "                       generate_kwargs={'max_length': 100},\n",
    "                       tokenizer_kwargs={}, timeout=50)\n",
    "\n",
    "responce_30b = client_30b.call(inputs, \n",
    "                       generate_kwargs={'max_length': 100},\n",
    "                       tokenizer_kwargs={}, timeout=50)\n",
    "\n",
    "responce_7b['decoded_text'], responce_30b['decoded_text']"
   ]
  },
  {
   "cell_type": "code",
   "execution_count": null,
   "id": "e53459db",
   "metadata": {},
   "outputs": [],
   "source": [
    "inputs = 'Question: Who is president of USA?'\n",
    "\n",
    "client.call(inputs, generate_kwargs={'max_length': 100, 'do_sample': True})"
   ]
  },
  {
   "cell_type": "markdown",
   "id": "b8d096e8",
   "metadata": {},
   "source": [
    "# Forward Call"
   ]
  },
  {
   "cell_type": "code",
   "execution_count": null,
   "id": "5fe08f0c",
   "metadata": {},
   "outputs": [],
   "source": [
    "from transformers import AutoTokenizer\n",
    "from matplotlib import pyplot as plt\n",
    "from scipy.special import softmax as softmax\n",
    "from xfact_lslms.client.lslms_client import LSMSClient\n",
    "import numpy as np"
   ]
  },
  {
   "cell_type": "code",
   "execution_count": null,
   "id": "3a3fa9be",
   "metadata": {},
   "outputs": [],
   "source": [
    "tokenizer = AutoTokenizer.from_pretrained('t5-base')\n",
    "client = LSMSClient(username='', password='', model_name='t5-base') "
   ]
  },
  {
   "cell_type": "code",
   "execution_count": null,
   "id": "babc8323",
   "metadata": {},
   "outputs": [],
   "source": [
    "tokens = tokenizer('He said he will ')\n",
    "\n",
    "input_ids = [tokens.input_ids]\n",
    "decoder_input_ids = np.zeros((len(input_ids), 1)).tolist() # For seq2seq Models"
   ]
  },
  {
   "cell_type": "code",
   "execution_count": null,
   "id": "782cecf9",
   "metadata": {},
   "outputs": [],
   "source": [
    "input_ids"
   ]
  },
  {
   "cell_type": "code",
   "execution_count": null,
   "id": "ed2c8b96",
   "metadata": {},
   "outputs": [],
   "source": [
    "# Send only the parameters that are required by the model forward function\n",
    "# All parameters should be in plain list format\n",
    "message = {'input_ids': input_ids,\n",
    "        'decoder_input_ids': decoder_input_ids\n",
    "       }\n",
    "\n",
    "response = client.forward(message)"
   ]
  },
  {
   "cell_type": "code",
   "execution_count": null,
   "id": "d2ff5d97",
   "metadata": {},
   "outputs": [],
   "source": [
    "# Probability density for your input\n",
    "plt.plot(softmax(response['logits'][0][0])), np.argmax(response['logits'][0][0]), tokenizer.decode(np.argmax(response['logits'][0][0]))"
   ]
  }
 ],
 "metadata": {
  "kernelspec": {
   "display_name": "Python 3 (ipykernel)",
   "language": "python",
   "name": "python3"
  },
  "language_info": {
   "codemirror_mode": {
    "name": "ipython",
    "version": 3
   },
   "file_extension": ".py",
   "mimetype": "text/x-python",
   "name": "python",
   "nbconvert_exporter": "python",
   "pygments_lexer": "ipython3",
   "version": "3.8.10"
  }
 },
 "nbformat": 4,
 "nbformat_minor": 5
}
